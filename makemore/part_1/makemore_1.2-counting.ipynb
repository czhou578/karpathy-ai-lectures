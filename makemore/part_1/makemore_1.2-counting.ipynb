{
 "cells": [
  {
   "cell_type": "code",
   "execution_count": 1,
   "metadata": {},
   "outputs": [],
   "source": [
    "import torch\n",
    "import torch.nn.functional as F\n",
    "\n",
    "words = open(\"names.txt\", 'r').read().splitlines()\n",
    "\n",
    "N = torch.zeros((27, 27, 27), dtype=torch.int32)\n"
   ]
  },
  {
   "cell_type": "code",
   "execution_count": 2,
   "metadata": {},
   "outputs": [],
   "source": [
    "chars = sorted(list(set(''.join(words))))\n",
    "stoi = {s: i + 1 for i, s in enumerate(chars)}\n",
    "stoi['.'] = 0\n",
    "itos = {i:s for s, i in stoi.items()}\n",
    "g = torch.Generator().manual_seed(2147483647)\n",
    "\n",
    "W = torch.rand((27, 27), generator=g, requires_grad=True)\n",
    "\n",
    "xs, ys = [], []\n",
    "\n",
    "words_len = len(words)\n",
    "train_idx = int(0.80 * words_len)\n",
    "dev_idx = int(0.90 * words_len)\n"
   ]
  },
  {
   "cell_type": "code",
   "execution_count": 3,
   "metadata": {},
   "outputs": [],
   "source": [
    "for w in words:\n",
    "    chs = ['.'] + list(w) + ['.']\n",
    "    for ch1, ch2, ch3 in zip(chs, chs[1:], chs[2:]):\n",
    "        ix1 = stoi[ch1]\n",
    "        ix2 = stoi[ch2]\n",
    "        ix3 = stoi[ch3]\n",
    "        xs.append([ix1, ix2])\n",
    "        ys.append(ix3)\n",
    "\n",
    "xs = torch.tensor(xs)\n",
    "ys = torch.tensor(ys)\n",
    "\n",
    "xtrain, ytrain = xs[:train_idx], ys[:train_idx]\n",
    "xdev, ydev = xs[train_idx:dev_idx], ys[train_idx:dev_idx]\n",
    "xtest, ytest = xs[dev_idx:], ys[dev_idx:]"
   ]
  },
  {
   "cell_type": "code",
   "execution_count": null,
   "metadata": {},
   "outputs": [
    {
     "name": "stdout",
     "output_type": "stream",
     "text": [
      "196113\n",
      "3.3447299003601074\n",
      "196113\n",
      "3.2635443210601807\n",
      "196113\n",
      "3.196011781692505\n",
      "196113\n",
      "3.1402747631073\n",
      "196113\n",
      "3.094204902648926\n",
      "196113\n",
      "3.055874824523926\n",
      "196113\n",
      "3.023747205734253\n",
      "196113\n",
      "2.9966275691986084\n",
      "196113\n",
      "2.9735708236694336\n",
      "196113\n",
      "2.953813076019287\n",
      "196113\n",
      "2.9367334842681885\n",
      "196113\n",
      "2.9218356609344482\n",
      "196113\n",
      "2.9087250232696533\n",
      "196113\n",
      "2.89709210395813\n",
      "196113\n",
      "2.886693000793457\n",
      "196113\n",
      "2.877335786819458\n",
      "196113\n",
      "2.8688669204711914\n",
      "196113\n",
      "2.8611645698547363\n",
      "196113\n",
      "2.854127883911133\n",
      "196113\n",
      "2.8476738929748535\n",
      "196113\n",
      "2.8417341709136963\n",
      "196113\n",
      "2.836250066757202\n",
      "196113\n",
      "2.8311712741851807\n",
      "196113\n",
      "2.826456308364868\n",
      "196113\n",
      "2.8220667839050293\n",
      "196113\n",
      "2.8179714679718018\n",
      "196113\n",
      "2.8141422271728516\n",
      "196113\n",
      "2.810553789138794\n",
      "196113\n",
      "2.807184934616089\n",
      "196113\n",
      "2.80401611328125\n",
      "196113\n",
      "2.801030397415161\n",
      "196113\n",
      "2.798212766647339\n",
      "196113\n",
      "2.795548915863037\n",
      "196113\n",
      "2.793027877807617\n",
      "196113\n",
      "2.790637254714966\n",
      "196113\n",
      "2.7883687019348145\n",
      "196113\n",
      "2.786212205886841\n",
      "196113\n",
      "2.7841598987579346\n",
      "196113\n",
      "2.78220534324646\n",
      "196113\n",
      "2.780341625213623\n",
      "196113\n",
      "2.778562068939209\n",
      "196113\n",
      "2.7768614292144775\n",
      "196113\n",
      "2.775235176086426\n",
      "196113\n",
      "2.773678779602051\n",
      "196113\n",
      "2.7721872329711914\n",
      "196113\n",
      "2.7707574367523193\n",
      "196113\n",
      "2.76938533782959\n",
      "196113\n",
      "2.768068313598633\n",
      "196113\n",
      "2.7668023109436035\n",
      "196113\n",
      "2.765584945678711\n"
     ]
    }
   ],
   "source": [
    "num = xs.nelement()\n",
    "\n",
    "for k in range(50):\n",
    "    xenc = F.one_hot(xtrain, num_classes=27).float()\n",
    "    logits = xenc.view(-1, 27) @ W\n",
    "    counts = logits.exp()\n",
    "    probs = counts / counts.sum(1, keepdims=True)\n",
    "    # print(ys.shape[0])\n",
    "    loss = -probs[torch.arange(ytrain.shape[0]), ytrain].log().mean() + 0.01*(W**2).mean()\n",
    "    \n",
    "    W.grad = None\n",
    "    loss.backward()\n",
    "\n",
    "    W.data += -20 * W.grad\n",
    "\n",
    "    print(loss.item())"
   ]
  },
  {
   "cell_type": "code",
   "execution_count": 5,
   "metadata": {},
   "outputs": [
    {
     "name": "stdout",
     "output_type": "stream",
     "text": [
      "Training loss on training set is,  2.689087152481079\n"
     ]
    }
   ],
   "source": [
    "@torch.no_grad()\n",
    "def eval(x, y):\n",
    "    xenc = F.one_hot(x, num_classes=27).float()\n",
    "    logits = xenc.view(-1, 27) @ W\n",
    "    counts = logits.exp()\n",
    "    probs = counts / counts.sum(1, keepdims=True)\n",
    "    return -probs[torch.arange(y.shape[0]), y].log().mean().item()\n",
    "\n",
    "train_loss = eval(xdev, ydev)\n",
    "print(\"Training loss on training set is, \", train_loss)"
   ]
  },
  {
   "cell_type": "code",
   "execution_count": 6,
   "metadata": {},
   "outputs": [
    {
     "name": "stdout",
     "output_type": "stream",
     "text": [
      "Training loss on test set is,  2.7688262462615967\n"
     ]
    }
   ],
   "source": [
    "@torch.no_grad()\n",
    "def eval(x, y):\n",
    "    xenc = F.one_hot(x, num_classes=27).float()\n",
    "    logits = xenc.view(-1, 27) @ W\n",
    "    counts = logits.exp()\n",
    "    probs = counts / counts.sum(1, keepdims=True)\n",
    "    return -probs[torch.arange(y.shape[0]), y].log().mean().item()\n",
    "\n",
    "test_loss = eval(xtest, ytest)\n",
    "print(\"Training loss on test set is, \", test_loss)"
   ]
  }
 ],
 "metadata": {
  "kernelspec": {
   "display_name": "Python 3",
   "language": "python",
   "name": "python3"
  },
  "language_info": {
   "codemirror_mode": {
    "name": "ipython",
    "version": 3
   },
   "file_extension": ".py",
   "mimetype": "text/x-python",
   "name": "python",
   "nbconvert_exporter": "python",
   "pygments_lexer": "ipython3",
   "version": "3.11.1"
  }
 },
 "nbformat": 4,
 "nbformat_minor": 2
}
