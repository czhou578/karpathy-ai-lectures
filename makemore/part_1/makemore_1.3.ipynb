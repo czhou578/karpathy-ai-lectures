{
 "cells": [
  {
   "cell_type": "code",
   "execution_count": 15,
   "metadata": {},
   "outputs": [],
   "source": [
    "import torch\n",
    "import torch.nn.functional as F\n",
    "\n",
    "\n",
    "words = open(\"names.txt\", 'r').read().splitlines()"
   ]
  },
  {
   "cell_type": "code",
   "execution_count": 16,
   "metadata": {},
   "outputs": [],
   "source": [
    "N = torch.zeros((27, 27, 27), dtype=torch.int32)\n",
    "\n",
    "chars = sorted(list(set(''.join(words))))\n",
    "stoi = {s: i + 1 for i, s in enumerate(chars)}\n",
    "stoTri = {}\n",
    "stoi['.'] = 0\n",
    "itos = {i:s for s, i in stoi.items()}\n",
    "g = torch.Generator().manual_seed(2147483647)\n",
    "\n",
    "W = torch.rand((729, 27), requires_grad=True)\n",
    "\n",
    "chars.insert(0, '.')\n",
    "\n",
    "i = 0\n",
    "for ch1 in chars:\n",
    "    for ch2 in chars:\n",
    "        stoTri[ch1 + ch2] = i\n",
    "        i += 1\n",
    "\n",
    "xs, ys = [], []\n",
    "\n",
    "words_len = len(words)\n",
    "train_idx = int(0.80 * words_len)\n",
    "dev_idx = int(0.90 * words_len)"
   ]
  },
  {
   "cell_type": "code",
   "execution_count": 17,
   "metadata": {},
   "outputs": [],
   "source": [
    "for w in words:\n",
    "    chs = ['.'] + ['.'] + list(w) + ['.']\n",
    "\n",
    "    for ch1, ch2, ch3 in zip(chs, chs[1:], chs[2:]):\n",
    "        ix1 = stoTri[ch1 + ch2]\n",
    "        ix2 = stoi[ch3]\n",
    "\n",
    "        xs.append(ix1)\n",
    "        ys.append(ix2)\n",
    "    \n",
    "\n",
    "xs = torch.tensor(xs)\n",
    "ys = torch.tensor(ys)\n",
    "\n",
    "xtrain, ytrain = xs[:train_idx], ys[:train_idx]\n",
    "xdev, ydev = xs[train_idx:dev_idx], ys[train_idx:dev_idx]\n",
    "xtest, ytest = xs[dev_idx:], ys[dev_idx:]"
   ]
  },
  {
   "cell_type": "code",
   "execution_count": 19,
   "metadata": {},
   "outputs": [
    {
     "name": "stdout",
     "output_type": "stream",
     "text": [
      "Mean of the last 10 training loss:  23.82310094833374\n"
     ]
    }
   ],
   "source": [
    "num = xs.nelement()\n",
    "\n",
    "train_loss_arr = []\n",
    "\n",
    "for k in range(100):\n",
    "    xenc = F.one_hot(xs, num_classes=729).float()\n",
    "    logits = xenc @ W\n",
    "    counts = logits.exp()\n",
    "    probs = counts / counts.sum(1, keepdim=True)\n",
    "    # print(ys.shape[0])\n",
    "    loss = -probs[torch.arange(num), ys].log().mean() + 0.01*(W**2).mean()\n",
    "    train_loss_arr.append(loss.item())\n",
    "    \n",
    "    W.grad = None\n",
    "    loss.backward()\n",
    "\n",
    "    W.data += -50 * W.grad\n",
    "\n",
    "print(\"Mean of the last 10 training loss: \", sum(train_loss_arr)/10)"
   ]
  },
  {
   "cell_type": "code",
   "execution_count": 20,
   "metadata": {},
   "outputs": [
    {
     "name": "stdout",
     "output_type": "stream",
     "text": [
      "Mean of the dev set loss:  2.2263104915618896\n"
     ]
    }
   ],
   "source": [
    "dev_loss_arr = []\n",
    "'''\n",
    "0.01: 0.325\n",
    "0.1: 0.321\n",
    "0.001: 0.318\n",
    "\n",
    "'''\n",
    "\n",
    "with torch.no_grad():\n",
    "    for k in range(10):\n",
    "        xenc = F.one_hot(xdev, num_classes=729).float()\n",
    "        logits = xenc.view(-1, 729) @ W\n",
    "        counts = logits.exp()\n",
    "        probs = counts / counts.sum(1, keepdims=True)\n",
    "        dev_loss = -probs[torch.arange(ydev.shape[0]), ydev].log().mean() + 0.01*(W**2).mean()\n",
    "        dev_loss_arr.append(dev_loss.item())\n",
    "\n",
    "print(\"Mean of the dev set loss: \", sum(dev_loss_arr)/10) \n",
    "\n"
   ]
  },
  {
   "cell_type": "code",
   "execution_count": 22,
   "metadata": {},
   "outputs": [
    {
     "name": "stdout",
     "output_type": "stream",
     "text": [
      "Mean of the test set loss:  2.361773729324341\n"
     ]
    }
   ],
   "source": [
    "test_loss_arr = []\n",
    "with torch.no_grad():\n",
    "    for j in range(10):\n",
    "        xenc = F.one_hot(xtest, num_classes=729).float()\n",
    "        logits = xenc.view(-1, 729) @ W\n",
    "        counts = logits.exp()\n",
    "        probs = counts / counts.sum(1, keepdims=True)\n",
    "        loss = -probs[torch.arange(ytest.shape[0]), ytest].log().mean() \n",
    "        test_loss_arr.append(loss.item())\n",
    "\n",
    "print(\"Mean of the test set loss: \", sum(test_loss_arr)/10) "
   ]
  },
  {
   "cell_type": "code",
   "execution_count": null,
   "metadata": {},
   "outputs": [],
   "source": []
  }
 ],
 "metadata": {
  "kernelspec": {
   "display_name": "Python 3",
   "language": "python",
   "name": "python3"
  },
  "language_info": {
   "codemirror_mode": {
    "name": "ipython",
    "version": 3
   },
   "file_extension": ".py",
   "mimetype": "text/x-python",
   "name": "python",
   "nbconvert_exporter": "python",
   "pygments_lexer": "ipython3",
   "version": "3.11.1"
  }
 },
 "nbformat": 4,
 "nbformat_minor": 2
}
