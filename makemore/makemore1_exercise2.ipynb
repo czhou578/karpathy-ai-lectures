{
 "cells": [
  {
   "cell_type": "code",
   "execution_count": 49,
   "metadata": {},
   "outputs": [
    {
     "data": {
      "text/plain": [
       "['emma',\n",
       " 'olivia',\n",
       " 'ava',\n",
       " 'isabella',\n",
       " 'sophia',\n",
       " 'charlotte',\n",
       " 'mia',\n",
       " 'amelia',\n",
       " 'harper',\n",
       " 'evelyn']"
      ]
     },
     "execution_count": 49,
     "metadata": {},
     "output_type": "execute_result"
    }
   ],
   "source": [
    "words = open(\"names.txt\", 'r').read().splitlines()\n",
    "words[:10]"
   ]
  },
  {
   "cell_type": "code",
   "execution_count": 50,
   "metadata": {},
   "outputs": [],
   "source": [
    "import torch\n",
    "import torch.nn.functional as F\n",
    "\n",
    "chars = sorted(list(set(''.join(words))))\n",
    "stoi = {s:i+1 for i,s in enumerate(chars)}\n",
    "stoi['.'] = 0\n",
    "itos = {i:s for s,i in stoi.items()}"
   ]
  },
  {
   "cell_type": "code",
   "execution_count": 58,
   "metadata": {},
   "outputs": [
    {
     "name": "stdout",
     "output_type": "stream",
     "text": [
      "25626\n",
      "\n"
     ]
    },
    {
     "data": {
      "text/plain": [
       "tensor([ 5, 13, 13,  ..., 25, 12, 25])"
      ]
     },
     "execution_count": 58,
     "metadata": {},
     "output_type": "execute_result"
    }
   ],
   "source": [
    "# Exercises 2: E02: split up the dataset randomly into 80% train set, 10% dev set, 10% test set. Train the bigram and trigram models only on the training set. Evaluate them on dev and test splits. What can you see?\n",
    "\n",
    "xs, ys = [], []\n",
    "\n",
    "for w in words:\n",
    "    chs = ['.'] + list(w) + ['.']\n",
    "    for ch1, ch2 in zip(chs, chs[1:]):\n",
    "        ix1 = stoi[ch1]\n",
    "        ix2 = stoi[ch2]\n",
    "        xs.append(ix1)\n",
    "        ys.append(ix2)\n",
    "\n",
    "xs = torch.tensor(xs)\n",
    "ys = torch.tensor(ys)\n",
    "\n",
    "words_len = len(words)\n",
    "train_idx = int(0.80 * words_len)\n",
    "dev_idx = int(0.90 * words_len)\n",
    "\n",
    "xtrain, ytrain = xs[:train_idx], ys[:train_idx]\n",
    "xdev, ydev = xs[train_idx:dev_idx], ys[train_idx:dev_idx]\n",
    "xtest, ytest = xs[dev_idx:], ys[dev_idx]\n",
    "\n",
    "ytrain\n",
    "\n",
    "\n"
   ]
  },
  {
   "cell_type": "code",
   "execution_count": 72,
   "metadata": {},
   "outputs": [
    {
     "name": "stdout",
     "output_type": "stream",
     "text": [
      "3.792734384536743\n",
      "3.7902562618255615\n",
      "3.7877838611602783\n",
      "3.785315990447998\n",
      "3.782853603363037\n",
      "3.7803964614868164\n",
      "3.7779436111450195\n",
      "3.775496482849121\n",
      "3.773054599761963\n",
      "3.7706174850463867\n",
      "3.76818585395813\n",
      "3.7657582759857178\n",
      "3.763336181640625\n",
      "3.7609198093414307\n",
      "3.758507251739502\n",
      "3.7561004161834717\n",
      "3.7536985874176025\n",
      "3.7513010501861572\n",
      "3.7489089965820312\n",
      "3.7465217113494873\n",
      "3.7441396713256836\n",
      "3.7417619228363037\n",
      "3.739389419555664\n",
      "3.7370214462280273\n",
      "3.7346584796905518\n",
      "3.732300043106079\n",
      "3.7299468517303467\n",
      "3.727598190307617\n",
      "3.7252542972564697\n",
      "3.7229158878326416\n",
      "3.720581531524658\n",
      "3.718252420425415\n",
      "3.7159276008605957\n",
      "3.7136080265045166\n",
      "3.711292266845703\n",
      "3.708981990814209\n",
      "3.7066760063171387\n",
      "3.7043755054473877\n",
      "3.7020790576934814\n",
      "3.6997873783111572\n",
      "3.697499990463257\n",
      "3.695218086242676\n",
      "3.6929402351379395\n",
      "3.690667152404785\n",
      "3.688399076461792\n",
      "3.6861348152160645\n",
      "3.683875799179077\n",
      "3.681621551513672\n",
      "3.6793711185455322\n",
      "3.6771254539489746\n"
     ]
    }
   ],
   "source": [
    "g = torch.Generator().manual_seed(2147483647)\n",
    "W = torch.randn((27, 27), generator=g, requires_grad=True)\n",
    "\n",
    "for k in range(50):\n",
    "    xenc = F.one_hot(xtrain, num_classes=27).float()\n",
    "    logits = xenc @ W\n",
    "    counts = logits.exp()\n",
    "    probs = counts / counts.sum(1, keepdims=True)\n",
    "    loss = -probs[torch.arange(25626), ytrain].log().mean()\n",
    "    print(loss.item())\n",
    "    W.grad = None\n",
    "    loss.backward()\n",
    "\n",
    "    W.data += -0.2 * W.grad\n"
   ]
  },
  {
   "cell_type": "code",
   "execution_count": 78,
   "metadata": {},
   "outputs": [
    {
     "name": "stdout",
     "output_type": "stream",
     "text": [
      "ouwjdjdjawccadjufhqyywednw.\n",
      ".\n",
      "oiinwtoziaszwtwt.\n",
      ".\n",
      "daxjiauydbbleviajsdbduinrwipblvszwygnbyt.\n"
     ]
    }
   ],
   "source": [
    "g = torch.Generator().manual_seed(2147483647)\n",
    "\n",
    "for i in range(5):\n",
    "    out = []\n",
    "    ix = 0\n",
    "\n",
    "    while True:\n",
    "        xenc = F.one_hot(torch.tensor([ix]), num_classes=27).float()\n",
    "        logits = xenc @ W\n",
    "        counts = logits.exp()\n",
    "        p = counts / counts.sum(1, keepdims=True)\n",
    "\n",
    "        ix = torch.multinomial(p, num_samples=1, replacement=True, generator=g).item()\n",
    "        out.append(itos[ix])\n",
    "        if ix == 0: break\n",
    "\n",
    "    print(''.join(out))"
   ]
  },
  {
   "cell_type": "code",
   "execution_count": null,
   "metadata": {},
   "outputs": [],
   "source": [
    "xs, ys, zs = [], [], []\n",
    "\n",
    "for w in words:\n",
    "    chs = ['.'] + list(w) + ['.']\n",
    "    for ch1, ch2, ch3 in zip(chs, chs[1:], chs[2:]):\n",
    "        ix1 = stoi[ch1]\n",
    "        ix2 = stoi[ch2]\n",
    "        ix3 = stoi[ch3]\n",
    "        xs.append(ix1)\n",
    "        ys.append(ix2)\n",
    "        zs.append(ix3)\n",
    "\n",
    "xs = torch.tensor(xs)\n",
    "ys = torch.tensor(ys)\n",
    "zs = torch.tensor(zs)\n",
    "\n",
    "words_len = len(words)\n",
    "train_idx = int(0.80 * words_len)\n",
    "dev_idx = int(0.90 * words_len)\n",
    "\n",
    "xtrain, ytrain, ztrain = xs[:train_idx], ys[:train_idx], zs[:train_idx]\n",
    "xdev, ydev = xs[train_idx:dev_idx], ys[train_idx:dev_idx]\n",
    "xtest, ytest = xs[dev_idx:], ys[dev_idx]\n",
    "\n",
    "ytrain"
   ]
  }
 ],
 "metadata": {
  "kernelspec": {
   "display_name": "Python 3",
   "language": "python",
   "name": "python3"
  },
  "language_info": {
   "codemirror_mode": {
    "name": "ipython",
    "version": 3
   },
   "file_extension": ".py",
   "mimetype": "text/x-python",
   "name": "python",
   "nbconvert_exporter": "python",
   "pygments_lexer": "ipython3",
   "version": "3.11.1"
  }
 },
 "nbformat": 4,
 "nbformat_minor": 2
}
