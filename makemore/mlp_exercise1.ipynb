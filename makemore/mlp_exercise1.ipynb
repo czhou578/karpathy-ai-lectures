{
 "cells": [
  {
   "cell_type": "code",
   "execution_count": null,
   "metadata": {},
   "outputs": [],
   "source": [
    "'''\n",
    "\"a\" or \"the\" are interchangeable - transfer knowledge in this embedding space and generalize\n",
    "through novel scenarios.\n",
    "\n",
    "\n",
    "embedding space (27 characters into a 2d space)\n",
    "can index with a list in pytorch\n",
    "\n",
    "C[X], embed X at once\n",
    "\n",
    ".view() - very efficient\n",
    ".storage()\n",
    "tensor always 1-d vector in computer memory\n",
    "\n",
    "'''"
   ]
  }
 ],
 "metadata": {
  "language_info": {
   "name": "python"
  }
 },
 "nbformat": 4,
 "nbformat_minor": 2
}
