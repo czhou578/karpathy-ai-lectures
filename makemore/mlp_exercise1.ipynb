{
 "cells": [
  {
   "cell_type": "code",
   "execution_count": null,
   "metadata": {},
   "outputs": [],
   "source": [
    "'''\n",
    "\"a\" or \"the\" are interchangeable - transfer knowledge in this embedding space and generalize\n",
    "through novel scenarios.\n",
    "\n",
    "\n",
    "embedding space (27 characters into a 2d space)\n",
    "can index with a list in pytorch\n",
    "\n",
    "C[X], embed X at once\n",
    "\n",
    ".view() - very efficient\n",
    ".cat() - creates a new tensor and memory / inefficient\n",
    ".storage()\n",
    "tensor always 1-d vector in computer memory\n",
    ".linspace\n",
    "\n",
    "\n",
    "logit - very positive number, can result in range overflow (NAN)\n",
    "offset logits, doesn't affect probs\n",
    "\n",
    "benefits of cross entropy\n",
    "- backprop and fwdprop are efficient\n",
    "- don't run into anomalies with floating point nums.\n",
    "\n",
    "do fward and backward prop on mini batches, to increase speed\n",
    "\n",
    "learning rate decay (divide lr by 10)\n",
    "model only learns based on training data\n",
    "\n",
    "training, dev, test\n",
    "\n",
    "'''"
   ]
  },
  {
   "cell_type": "code",
   "execution_count": null,
   "metadata": {},
   "outputs": [],
   "source": []
  }
 ],
 "metadata": {
  "language_info": {
   "name": "python"
  }
 },
 "nbformat": 4,
 "nbformat_minor": 2
}
