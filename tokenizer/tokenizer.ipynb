{
 "cells": [
  {
   "cell_type": "code",
   "execution_count": 7,
   "metadata": {},
   "outputs": [
    {
     "data": {
      "text/plain": [
       "'\\n    upper case, lowercase, front/back of sentences, spaces are all different tokens\\n    cannot use codepoint since it always changes\\n\\n    support larger vocab size that we can tune as hyperparam, while sticking with utf-8\\n\\n    raw bytes into transformers (sequences are very long so expensive)\\n\\n    byte pair encoding alg: compress byte sequences\\n\\n    tokenizer takes in raw text and translates that into token sequence / can also do reverse\\n\\n    tiktoken - openai official library\\n\\n    special tokens: <\\n\\n\\n'"
      ]
     },
     "execution_count": 7,
     "metadata": {},
     "output_type": "execute_result"
    }
   ],
   "source": [
    "'''\n",
    "    upper case, lowercase, front/back of sentences, spaces are all different tokens\n",
    "    cannot use codepoint since it always changes\n",
    "\n",
    "    support larger vocab size that we can tune as hyperparam, while sticking with utf-8\n",
    "\n",
    "    raw bytes into transformers (sequences are very long so expensive)\n",
    "\n",
    "    byte pair encoding alg: compress byte sequences\n",
    "\n",
    "    tokenizer takes in raw text and translates that into token sequence / can also do reverse\n",
    "\n",
    "    tiktoken - openai official library\n",
    "\n",
    "    special tokens: <|endoftext|>\n",
    "\n",
    "    larger vocab size, embedding vectors may be undertrained for specific vocabs\n",
    "    too large chunks might be squished into single tokens \n",
    "    ideal size: (high 10k - 100k size)\n",
    "\n",
    "    tokenizer not sufficiently trained on non english data\n",
    "    \n",
    "\n",
    "\n",
    "'''"
   ]
  },
  {
   "cell_type": "code",
   "execution_count": 4,
   "metadata": {},
   "outputs": [
    {
     "data": {
      "text/plain": [
       "[228,\n",
       " 189,\n",
       " 160,\n",
       " 229,\n",
       " 165,\n",
       " 189,\n",
       " 230,\n",
       " 136,\n",
       " 145,\n",
       " 230,\n",
       " 152,\n",
       " 175,\n",
       " 231,\n",
       " 167,\n",
       " 145,\n",
       " 230,\n",
       " 158,\n",
       " 151]"
      ]
     },
     "execution_count": 4,
     "metadata": {},
     "output_type": "execute_result"
    }
   ],
   "source": [
    "[ord(x) for x in \"你好我是科林\"]\n",
    "list(\"你好我是科林\".encode('utf-8'))"
   ]
  },
  {
   "cell_type": "code",
   "execution_count": 6,
   "metadata": {},
   "outputs": [
    {
     "name": "stdout",
     "output_type": "stream",
     "text": [
      "{(228, 189): 1, (189, 160): 1, (160, 229): 1, (229, 165): 1, (165, 189): 1, (189, 230): 1, (230, 136): 1, (136, 145): 1, (145, 230): 2, (230, 152): 1, (152, 175): 1, (175, 231): 1, (231, 167): 1, (167, 145): 1, (230, 158): 1, (158, 151): 1}\n"
     ]
    }
   ],
   "source": [
    "text = \"你好我是科林\"\n",
    "tokens = text.encode(\"utf-8\")\n",
    "tokens = list(map(int, tokens))\n",
    "\n",
    "def get_stats(ids):\n",
    "    counts = {}\n",
    "    for pair in zip(ids, ids[1:]):\n",
    "        counts[pair] = counts.get(pair, 0) + 1\n",
    "    \n",
    "    return counts\n",
    "\n",
    "stats = get_stats(tokens)\n",
    "print(stats)"
   ]
  }
 ],
 "metadata": {
  "kernelspec": {
   "display_name": "Python 3",
   "language": "python",
   "name": "python3"
  },
  "language_info": {
   "codemirror_mode": {
    "name": "ipython",
    "version": 3
   },
   "file_extension": ".py",
   "mimetype": "text/x-python",
   "name": "python",
   "nbconvert_exporter": "python",
   "pygments_lexer": "ipython3",
   "version": "3.11.1"
  }
 },
 "nbformat": 4,
 "nbformat_minor": 2
}
